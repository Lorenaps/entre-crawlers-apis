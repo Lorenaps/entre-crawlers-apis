{
 "cells": [
  {
   "cell_type": "markdown",
   "metadata": {},
   "source": [
    "# 02 - API, XML e Notícias\n",
    "\n",
    "### Quais notícias falaram sobre a Marcha do Empoderamento Crespo em Salvador?\n",
    "\n",
    "<img src=\"imagens/marcha.png\">\n",
    "\n",
    "Onde achar essa informação?\n",
    "- [Google News RSS](https://news.google.com/rss/search?q=marcha%20empoderamento%20salvador&hl=pt-BR&gl=BR&ceid=BR:pt-419\n",
    ")"
   ]
  },
  {
   "cell_type": "markdown",
   "metadata": {},
   "source": [
    "#### Vamos começar!"
   ]
  },
  {
   "cell_type": "code",
   "execution_count": null,
   "metadata": {},
   "outputs": [],
   "source": [
    "import requests"
   ]
  },
  {
   "cell_type": "markdown",
   "metadata": {},
   "source": [
    "#### Definindo urls e chaves de busca"
   ]
  },
  {
   "cell_type": "code",
   "execution_count": null,
   "metadata": {},
   "outputs": [],
   "source": [
    "url = 'https://news.google.com/rss/search?q='"
   ]
  },
  {
   "cell_type": "code",
   "execution_count": null,
   "metadata": {},
   "outputs": [],
   "source": [
    "chave_busca = ['\"marcha\" and \"crespo\" and \"salvador\"',\n",
    "               '\"marcha\" and \"empoderamento\" and  \"crespo\" and \"salvador\"',\n",
    "               '\"marcha\" and \"empoderamento crespo\" and \"salvador\"']"
   ]
  },
  {
   "cell_type": "code",
   "execution_count": null,
   "metadata": {},
   "outputs": [],
   "source": [
    "parametros = '&hl=pt-BR&gl=BR&ceid=BR:pt-419'"
   ]
  },
  {
   "cell_type": "code",
   "execution_count": null,
   "metadata": {
    "scrolled": true
   },
   "outputs": [],
   "source": [
    "url_final = url + chave_busca[0] + aux\n",
    "url_final"
   ]
  },
  {
   "cell_type": "markdown",
   "metadata": {},
   "source": [
    "#### Vamos testar? \n",
    "\n",
    "Fazendo uma requisição no rss e pesquisando pela primeira chave de busca"
   ]
  },
  {
   "cell_type": "code",
   "execution_count": null,
   "metadata": {},
   "outputs": [],
   "source": [
    "response = requests.get(url_final)"
   ]
  },
  {
   "cell_type": "code",
   "execution_count": null,
   "metadata": {
    "scrolled": true
   },
   "outputs": [],
   "source": [
    "response.status_code"
   ]
  },
  {
   "cell_type": "markdown",
   "metadata": {},
   "source": [
    "#### Beleza! Mas qual é o resultado dessa requisição?"
   ]
  },
  {
   "cell_type": "code",
   "execution_count": null,
   "metadata": {},
   "outputs": [],
   "source": [
    "response.content"
   ]
  },
  {
   "cell_type": "markdown",
   "metadata": {},
   "source": [
    "#### Igualzinho a um csv, né?\n",
    "\n",
    "<img src=\"https://media.giphy.com/media/fpXxIjftmkk9y/giphy.gif\" align=\"left\">"
   ]
  },
  {
   "cell_type": "markdown",
   "metadata": {},
   "source": [
    "#### Vamos precisar de ajuda aqui..."
   ]
  },
  {
   "cell_type": "code",
   "execution_count": null,
   "metadata": {},
   "outputs": [],
   "source": [
    "from xml.etree import ElementTree"
   ]
  },
  {
   "cell_type": "code",
   "execution_count": null,
   "metadata": {},
   "outputs": [],
   "source": [
    "tree = ElementTree.fromstring(response.content)"
   ]
  },
  {
   "cell_type": "code",
   "execution_count": null,
   "metadata": {},
   "outputs": [],
   "source": [
    "type(tree)"
   ]
  },
  {
   "cell_type": "code",
   "execution_count": null,
   "metadata": {},
   "outputs": [],
   "source": [
    "tree.tag"
   ]
  },
  {
   "cell_type": "code",
   "execution_count": null,
   "metadata": {},
   "outputs": [],
   "source": [
    "tree.find('channel').findtext('title')"
   ]
  },
  {
   "cell_type": "code",
   "execution_count": null,
   "metadata": {},
   "outputs": [],
   "source": [
    "tree = tree.find('channel')"
   ]
  },
  {
   "cell_type": "code",
   "execution_count": null,
   "metadata": {
    "scrolled": true
   },
   "outputs": [],
   "source": [
    "noticias = tree.getchildren()\n",
    "len(noticias)"
   ]
  },
  {
   "cell_type": "code",
   "execution_count": null,
   "metadata": {},
   "outputs": [],
   "source": [
    "noticias = noticias[8:]"
   ]
  },
  {
   "cell_type": "code",
   "execution_count": null,
   "metadata": {
    "scrolled": true
   },
   "outputs": [],
   "source": [
    "len(noticias)"
   ]
  },
  {
   "cell_type": "code",
   "execution_count": null,
   "metadata": {},
   "outputs": [],
   "source": [
    "for noticia in noticias:\n",
    "    print('    ')\n",
    "    print(\"Titulo: \" + noticia.findtext('title'))\n",
    "    print(\"Data da Publicação: \" + noticia.findtext('pubDate'))\n",
    "    print(\"Link: \" + noticia.findtext('link'))\n",
    "    print(\"Canal: \" + noticia.findtext('source'))"
   ]
  },
  {
   "cell_type": "markdown",
   "metadata": {},
   "source": [
    "## Organizando nosso script\n",
    "\n",
    "#### Criando um método\n",
    "\n",
    "Primeiro vamos juntar o que fizemos em células separadas lá em cima em um método chamado pesquisar notícias"
   ]
  },
  {
   "cell_type": "code",
   "execution_count": null,
   "metadata": {},
   "outputs": [],
   "source": [
    "def pesquisar_noticias(string):\n",
    "    \n",
    "    print('Extraindo notícias para a string {0}'.format(string))\n",
    "    url_final = url + string + aux\n",
    "    response = requests.get(url_final)\n",
    "    \n",
    "    if response.status_code == 200:\n",
    "        \n",
    "        noticias = ElementTree.fromstring(response.content).find('channel').getchildren()\n",
    "        noticias = children[8:] # As 8 primeiras posições são metadados\n",
    "        \n",
    "        print('Foram encontrados {0} resultados'.format(len(noticias)))\n",
    "                \n",
    "        for noticia in noticias:\n",
    "            print('    ')\n",
    "            print(\"Titulo: \" + noticia.findtext('title'))\n",
    "            print(\"Data da Publicação: \" + noticia.findtext('pubDate'))\n",
    "            print(\"Link: \" + noticia.findtext('link'))\n",
    "            print(\"Canal: \" + noticia.findtext('source'))"
   ]
  },
  {
   "cell_type": "markdown",
   "metadata": {},
   "source": [
    "#### Agora vamos fazer a pesquisa para todas as chave de busca"
   ]
  },
  {
   "cell_type": "code",
   "execution_count": null,
   "metadata": {},
   "outputs": [],
   "source": [
    "for chave in chave_busca:\n",
    "    \n",
    "    pesquisar_noticia(chave)"
   ]
  },
  {
   "cell_type": "markdown",
   "metadata": {},
   "source": [
    "Pronto! Temos uma lista das noticias sobre a marcha.\n",
    "\n",
    "Mas poderíamos salvar esses dados, né? \n",
    "Em um formato que nos torne mais fácil a análise deles?\n",
    "\n",
    "\n",
    "Vamos ver se conseguimos fazer isso no próximo notebook :)\n",
    "\n",
    "### Anterior:\n",
    "\n",
    "#### [1 - Introdução]()\n",
    "\n",
    "### Próximo:\n",
    "\n",
    "#### [3 - API, Crawler, JSON e HTML]()"
   ]
  }
 ],
 "metadata": {
  "kernelspec": {
   "display_name": "Python 3",
   "language": "python",
   "name": "python3"
  },
  "language_info": {
   "codemirror_mode": {
    "name": "ipython",
    "version": 3
   },
   "file_extension": ".py",
   "mimetype": "text/x-python",
   "name": "python",
   "nbconvert_exporter": "python",
   "pygments_lexer": "ipython3",
   "version": "3.5.6"
  }
 },
 "nbformat": 4,
 "nbformat_minor": 2
}
