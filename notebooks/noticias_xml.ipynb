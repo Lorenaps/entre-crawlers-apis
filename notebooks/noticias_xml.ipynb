{
 "cells": [
  {
   "cell_type": "markdown",
   "metadata": {},
   "source": [
    "# Via API e XML\n",
    "\n",
    "- A API do Google News foi descontinuada porém existe uma versão disponível que retorna os resultados da pesquisa em formato xml\n",
    "\n",
    "https://news.google.com/rss/search?q=marcha%20empoderamento%20salvador&hl=pt-BR&gl=BR&ceid=BR:pt-419\n",
    "\n",
    "\n",
    "TODO: Verificar XML vulnerabilities\n",
    "https://docs.python.org/3/library/xml.etree.elementtree.html\n"
   ]
  },
  {
   "cell_type": "code",
   "execution_count": 1,
   "metadata": {},
   "outputs": [],
   "source": [
    "import requests\n",
    "from xml.etree import ElementTree"
   ]
  },
  {
   "cell_type": "code",
   "execution_count": 2,
   "metadata": {},
   "outputs": [],
   "source": [
    "url = 'https://news.google.com/rss/search?q='"
   ]
  },
  {
   "cell_type": "code",
   "execution_count": 20,
   "metadata": {},
   "outputs": [],
   "source": [
    "chave_busca = ['\"marcha\" and \"crespo\" and \"salvador\"',\n",
    "               '\"marcha\" and \"empoderamento\" and  \"crespo\" and \"salvador\"',\n",
    "               '\"marcha\" and \"empoderamento crespo\" and \"salvador\"']"
   ]
  },
  {
   "cell_type": "code",
   "execution_count": 21,
   "metadata": {},
   "outputs": [],
   "source": [
    "aux = '&hl=pt-BR&gl=BR&ceid=BR:pt-419'"
   ]
  },
  {
   "cell_type": "code",
   "execution_count": 22,
   "metadata": {
    "scrolled": true
   },
   "outputs": [
    {
     "data": {
      "text/plain": [
       "'https://news.google.com/rss/search?q=\"marcha\" and \"empoderamento crespo\" and \"salvador\"&hl=pt-BR&gl=BR&ceid=BR:pt-419'"
      ]
     },
     "execution_count": 22,
     "metadata": {},
     "output_type": "execute_result"
    }
   ],
   "source": [
    "url_final = url + chave_busca[2] + aux\n",
    "url_final"
   ]
  },
  {
   "cell_type": "code",
   "execution_count": 23,
   "metadata": {},
   "outputs": [],
   "source": [
    "response = requests.get(url_final)"
   ]
  },
  {
   "cell_type": "code",
   "execution_count": 24,
   "metadata": {
    "scrolled": true
   },
   "outputs": [
    {
     "data": {
      "text/plain": [
       "200"
      ]
     },
     "execution_count": 24,
     "metadata": {},
     "output_type": "execute_result"
    }
   ],
   "source": [
    "response.status_code"
   ]
  },
  {
   "cell_type": "code",
   "execution_count": 25,
   "metadata": {},
   "outputs": [],
   "source": [
    "tree = ElementTree.fromstring(response.content)"
   ]
  },
  {
   "cell_type": "code",
   "execution_count": 26,
   "metadata": {},
   "outputs": [
    {
     "data": {
      "text/plain": [
       "'rss'"
      ]
     },
     "execution_count": 26,
     "metadata": {},
     "output_type": "execute_result"
    }
   ],
   "source": [
    "tree.tag"
   ]
  },
  {
   "cell_type": "code",
   "execution_count": 27,
   "metadata": {
    "scrolled": true
   },
   "outputs": [
    {
     "data": {
      "text/plain": [
       "{'version': '2.0'}"
      ]
     },
     "execution_count": 27,
     "metadata": {},
     "output_type": "execute_result"
    }
   ],
   "source": [
    "tree.attrib"
   ]
  },
  {
   "cell_type": "code",
   "execution_count": 28,
   "metadata": {},
   "outputs": [
    {
     "data": {
      "text/plain": [
       "'\"\"marcha\" and \"empoderamento crespo\" and \"salvador\"\" - Google Notícias'"
      ]
     },
     "execution_count": 28,
     "metadata": {},
     "output_type": "execute_result"
    }
   ],
   "source": [
    "title = tree.find('channel').findtext('title')\n",
    "title"
   ]
  },
  {
   "cell_type": "code",
   "execution_count": 29,
   "metadata": {},
   "outputs": [],
   "source": [
    "tree = tree.find('channel')"
   ]
  },
  {
   "cell_type": "code",
   "execution_count": 30,
   "metadata": {
    "scrolled": true
   },
   "outputs": [
    {
     "data": {
      "text/plain": [
       "36"
      ]
     },
     "execution_count": 30,
     "metadata": {},
     "output_type": "execute_result"
    }
   ],
   "source": [
    "noticias = tree.getchildren()\n",
    "len(noticias)"
   ]
  },
  {
   "cell_type": "code",
   "execution_count": 31,
   "metadata": {},
   "outputs": [],
   "source": [
    "noticias = noticias[8:]"
   ]
  },
  {
   "cell_type": "code",
   "execution_count": 32,
   "metadata": {
    "scrolled": true
   },
   "outputs": [
    {
     "data": {
      "text/plain": [
       "28"
      ]
     },
     "execution_count": 32,
     "metadata": {},
     "output_type": "execute_result"
    }
   ],
   "source": [
    "len(noticias)"
   ]
  },
  {
   "cell_type": "code",
   "execution_count": 33,
   "metadata": {},
   "outputs": [
    {
     "name": "stdout",
     "output_type": "stream",
     "text": [
      "    \n",
      "Titulo: Cultura às 14:51 Quarta edição da Marcha do Empoderamento Crespo acontece no próximo domingo Da - A Tarde On Line\n",
      "Data da Publicação: Thu, 29 Nov 2018 08:00:00 GMT\n",
      "Link: https://atarde.uol.com.br/cultura/noticias/2015504-quarta-edicao-da-marcha-do-empoderamento-crespo-acontece-no-proximo-domingo\n",
      "Canal: A Tarde On Line\n",
      "    \n",
      "Titulo: É preciso encrespar! Marcha influencia cabeças no Centro da cidade - Jornal Correio\n",
      "Data da Publicação: Sun, 09 Dec 2018 08:00:00 GMT\n",
      "Link: https://www.correio24horas.com.br/noticia/nid/e-preciso-encrespar-marcha-influencia-cabecas-no-centro-da-cidade/\n",
      "Canal: Jornal Correio\n",
      "    \n",
      "Titulo: Marcha do Empoderamento Crespo reúne cerca de três mil pessoas em Salvador - Correio da Bahia\n",
      "Data da Publicação: Sun, 08 Nov 2015 08:00:00 GMT\n",
      "Link: https://www.correio24horas.com.br/noticia/nid/marcha-do-empoderamento-crespo-reune-cerca-de-tres-mil-pessoas-em-salvador/\n",
      "Canal: Correio da Bahia\n",
      "    \n",
      "Titulo: Marcha do Empoderamento Crespo reúne dez mil pessoas na Avenida Sete - Correio*\n",
      "Data da Publicação: Sat, 18 Nov 2017 08:00:00 GMT\n",
      "Link: https://www.correio24horas.com.br/noticia/nid/marcha-do-empoderamento-crespo-reune-dez-mil-pessoas-na-avenida-sete/\n",
      "Canal: Correio*\n",
      "    \n",
      "Titulo: Marcha do Empoderamento Crespo ocupa ruas do Centro de Salvador - Globo.com\n",
      "Data da Publicação: Sun, 13 Nov 2016 08:00:00 GMT\n",
      "Link: http://g1.globo.com/bahia/noticia/2016/11/marcha-do-empoderamento-crespo-ocupa-ruas-do-centro-de-salvador.html\n",
      "Canal: Globo.com\n",
      "    \n",
      "Titulo: Salvador às 07:53 Movimento negro entrega representação do caso Crispim ao MP-BA nesta quarta - A Tarde On Line\n",
      "Data da Publicação: Wed, 27 Feb 2019 08:00:00 GMT\n",
      "Link: https://atarde.uol.com.br/bahia/salvador/noticias/2038959-movimento-negro-entrega-representacao-do-caso-crispim-ao-mpba-nesta-quarta\n",
      "Canal: A Tarde On Line\n",
      "    \n",
      "Titulo: Lei institui Dia do Empoderamento do Cabelo Crespo em Salvador - Correio da Bahia\n",
      "Data da Publicação: Fri, 10 Feb 2017 08:00:00 GMT\n",
      "Link: https://www.correio24horas.com.br/noticia/nid/lei-institui-dia-do-empoderamento-do-cabelo-crespo-em-salvador/\n",
      "Canal: Correio da Bahia\n",
      "    \n",
      "Titulo: 09/11/2018 Projeto realiza debate sobre feminismo negro com mais de 40 ativistas baianas - A Tarde On Line\n",
      "Data da Publicação: Fri, 09 Nov 2018 08:00:00 GMT\n",
      "Link: https://atarde.uol.com.br/cultura/noticias/2010212-projeto-realiza-debate-sobre-feminismo-negro-com-mais-de-40-ativistas-baianas\n",
      "Canal: A Tarde On Line\n",
      "    \n",
      "Titulo: Tempo de revolução: de Lua Xavier ao levante de candidaturas negras em Salvador - Jornal Correio\n",
      "Data da Publicação: Thu, 08 Aug 2019 07:00:00 GMT\n",
      "Link: https://www.correio24horas.com.br/noticia/nid/tempo-de-revolucao-de-lua-xavier-ao-levante-de-candidaturas-negras-em-salvador/\n",
      "Canal: Jornal Correio\n",
      "    \n",
      "Titulo: Marcha do Empoderamento Crespo leva autoestima a mulheres do Nordeste de Amaralina - Correio da Bahia\n",
      "Data da Publicação: Sun, 01 May 2016 07:00:00 GMT\n",
      "Link: https://www.correio24horas.com.br/noticia/nid/marcha-do-empoderamento-crespo-leva-autoestima-a-mulheres-do-nordeste-de-amaralina/\n",
      "Canal: Correio da Bahia\n",
      "    \n",
      "Titulo: Salvador às 10:45 Novembro Negro abre programação no dia 8 Felipe Santana - A Tarde On Line\n",
      "Data da Publicação: Sat, 04 Nov 2017 07:00:00 GMT\n",
      "Link: https://atarde.uol.com.br/bahia/salvador/noticias/1909047-novembro-negro-abre-programacao-no-dia-8\n",
      "Canal: A Tarde On Line\n",
      "    \n",
      "Titulo: Dia da Mulher Afro-Latino-Americana e Caribenha é celebrado em Salvador com debate e marcha pelo centro da cidade - G1\n",
      "Data da Publicação: Wed, 25 Jul 2018 07:00:00 GMT\n",
      "Link: https://g1.globo.com/ba/bahia/noticia/2018/07/25/debate-sobre-empoderamento-crespo-e-colorismo-marca-dia-da-mulher-afro-latina-americana-e-caribenha-em-salvador.ghtml\n",
      "Canal: G1\n",
      "    \n",
      "Titulo: Em busca de valorização dos cabelos crespos e cacheados, negras e negros se unem para reforçar identidade: 'A estética é um ato político' - Globo.com\n",
      "Data da Publicação: Mon, 20 Nov 2017 08:00:00 GMT\n",
      "Link: https://g1.globo.com/ba/bahia/noticia/em-busca-de-valorizacao-dos-cabelos-crespos-e-cacheados-negras-e-negros-se-unem-para-reforcar-identidade-a-estetica-e-um-ato-politico.ghtml\n",
      "Canal: Globo.com\n",
      "    \n",
      "Titulo: Retadas: CORREIO homenageia 28 mulheres baianas inspiradoras - Jornal Correio\n",
      "Data da Publicação: Fri, 08 Mar 2019 08:00:00 GMT\n",
      "Link: https://www.correio24horas.com.br/noticia/nid/retadas-correio-homenageia-28-mulheres-baianas-inspiradoras/\n",
      "Canal: Jornal Correio\n",
      "    \n",
      "Titulo: Eventos celebram o mês da Consciência Negra em Salvador - Correio*\n",
      "Data da Publicação: Sat, 11 Nov 2017 08:00:00 GMT\n",
      "Link: https://www.correio24horas.com.br/noticia/nid/eventos-celebram-o-mes-da-consciencia-negra-em-salvador/\n",
      "Canal: Correio*\n",
      "    \n",
      "Titulo: Elas passaram pela transição capilar e nos falam sobre o caminho - Jornal Correio\n",
      "Data da Publicação: Fri, 16 Nov 2018 08:00:00 GMT\n",
      "Link: https://www.correio24horas.com.br/noticia/nid/elas-passaram-pela-transicao-capilar-e-nos-falam-sobre-o-caminho/\n",
      "Canal: Jornal Correio\n",
      "    \n",
      "Titulo: Por autoestima e religião, mulheres adotam turbante: 'É minha coroa' - Globo.com\n",
      "Data da Publicação: Mon, 16 Nov 2015 08:00:00 GMT\n",
      "Link: http://g1.globo.com/bahia/noticia/2015/11/por-autoestima-e-religiao-mulheres-adotam-turbante-e-minha-coroa.html\n",
      "Canal: Globo.com\n",
      "    \n",
      "Titulo: Lacração, empoderamento e luta: conheça a geração tombamento - Correio*\n",
      "Data da Publicação: Mon, 13 Nov 2017 08:00:00 GMT\n",
      "Link: https://www.correio24horas.com.br/noticia/nid/lacracao-empoderamento-e-luta-conheca-a-geracao-tombamento/\n",
      "Canal: Correio*\n",
      "    \n",
      "Titulo: Salvador: irreverência e protesto marcam o tradicional bloco Mudança do Garcia - EBC\n",
      "Data da Publicação: Mon, 27 Feb 2017 08:00:00 GMT\n",
      "Link: http://agenciabrasil.ebc.com.br/geral/noticia/2017-02/salvador-irreverencia-e-protesto-marcam-o-tradicional-bloco-mudanca-do-garcia\n",
      "Canal: EBC\n",
      "    \n",
      "Titulo: Rapper Akon vai implantar projeto de energia solar no bairro da Liberdade - Globo.com\n",
      "Data da Publicação: Wed, 09 Dec 2015 08:00:00 GMT\n",
      "Link: http://g1.globo.com/bahia/noticia/2015/12/rapper-akon-vai-implantar-projeto-de-energia-solar-no-bairro-da-liberdade.html\n",
      "Canal: Globo.com\n",
      "    \n",
      "Titulo: Preticess: baianas são destaque na lista de mulheres inspiradoras de 2016 - Correio da Bahia\n",
      "Data da Publicação: Mon, 05 Dec 2016 08:00:00 GMT\n",
      "Link: https://www.correio24horas.com.br/noticia/nid/preticess-baianas-sao-destaque-na-lista-de-mulheres-inspiradoras-de-2016/\n",
      "Canal: Correio da Bahia\n",
      "    \n",
      "Titulo: Valdir Cabeleireiro começou carreira em 1986, debaixo de árvore e na porta de casa - Correio da Bahia\n",
      "Data da Publicação: Mon, 14 Nov 2016 08:00:00 GMT\n",
      "Link: https://www.correio24horas.com.br/noticia/nid/valdir-cabeleireiro-comecou-carreira-em-1986-debaixo-de-arvore-e-na-porta-de-casa/\n",
      "Canal: Correio da Bahia\n",
      "    \n",
      "Titulo: Carro capota na Avenida Juracy Magalhães - notícias em Trânsito - Globo.com\n",
      "Data da Publicação: Sun, 08 Nov 2015 08:00:00 GMT\n",
      "Link: http://g1.globo.com/bahia/transito/noticia/2015/11/carro-capota-na-avenida-juracy-magalhaes.html\n",
      "Canal: Globo.com\n",
      "    \n",
      "Titulo: Ivete Sangalo recebe prêmio em evento que celebra o Dia Internacional da Mulher - Correio da Bahia\n",
      "Data da Publicação: Thu, 09 Mar 2017 08:00:00 GMT\n",
      "Link: https://www.correio24horas.com.br/noticia/nid/ivete-sangalo-recebe-premio-em-evento-que-celebra-o-dia-internacional-da-mulher/\n",
      "Canal: Correio da Bahia\n",
      "    \n",
      "Titulo: Suspeitos de matar Valdir Cabeleireiro são identificados pela polícia - Correio da Bahia\n",
      "Data da Publicação: Mon, 09 Jan 2017 08:00:00 GMT\n",
      "Link: https://www.correio24horas.com.br/noticia/nid/suspeitos-de-matar-valdir-cabeleireiro-sao-identificados-pela-policia/\n",
      "Canal: Correio da Bahia\n",
      "    \n",
      "Titulo: Consciência Negra Cabelos das mulheres negras geram renda - A Tarde On Line\n",
      "Data da Publicação: Fri, 20 Nov 2015 08:00:00 GMT\n",
      "Link: https://atarde.uol.com.br/consciencianegra/noticias/1727984-cabelos-das-mulheres-negras-geram-renda\n",
      "Canal: A Tarde On Line\n",
      "    \n",
      "Titulo: Sem patrocínio, Bando de Teatro Olodum resiste com arte e militância - Globo.com\n",
      "Data da Publicação: Tue, 17 Nov 2015 08:00:00 GMT\n",
      "Link: http://g1.globo.com/bahia/noticia/2015/11/sem-patrocinio-bando-de-teatro-olodum-resiste-com-arte-e-militancia.html\n",
      "Canal: Globo.com\n",
      "    \n",
      "Titulo: Mulheres baianas fazem ato contra a cultura do estupro - Jornal da Mídia\n",
      "Data da Publicação: Sat, 04 Jun 2016 07:00:00 GMT\n",
      "Link: https://www.jornaldamidia.com.br/2016/06/04/mulheres-baianas-fazem-ato-contra-a-cultura-do-estupro/\n",
      "Canal: Jornal da Mídia\n"
     ]
    }
   ],
   "source": [
    "for noticia in noticias:\n",
    "    print('    ')\n",
    "    print(\"Titulo: \" + noticia.findtext('title'))\n",
    "    print(\"Data da Publicação: \" + noticia.findtext('pubDate'))\n",
    "    print(\"Link: \" + noticia.findtext('link'))\n",
    "    print(\"Canal: \" + noticia.findtext('source'))"
   ]
  },
  {
   "cell_type": "markdown",
   "metadata": {},
   "source": [
    "## Organizando nosso script"
   ]
  },
  {
   "cell_type": "code",
   "execution_count": null,
   "metadata": {},
   "outputs": [],
   "source": [
    "import pandas as pd\n",
    "import time"
   ]
  },
  {
   "cell_type": "code",
   "execution_count": null,
   "metadata": {},
   "outputs": [],
   "source": [
    "def add_result(result):\n",
    "    df = pd.DataFrame([[\n",
    "                        result.findtext('title'),\n",
    "                        result.findtext('pubDate'),\n",
    "                        result.findtext('link'),\n",
    "                        result.findtext('source'),\n",
    "                        str(time.time()).split('.')[0]]], columns=columns)\n",
    "\n",
    "    return df"
   ]
  },
  {
   "cell_type": "code",
   "execution_count": null,
   "metadata": {},
   "outputs": [],
   "source": [
    "def extract_results(results, results_df):\n",
    "    \n",
    "    for result in results:\n",
    "        results_df = pd.concat([results_df, add_result(result)], ignore_index=True, sort=False)\n",
    "        \n",
    "    return results_df"
   ]
  },
  {
   "cell_type": "code",
   "execution_count": null,
   "metadata": {},
   "outputs": [],
   "source": [
    "columns=['title',\n",
    "         'pubDate',\n",
    "         'link',\n",
    "         'source', \n",
    "         'timestamp_extract']"
   ]
  },
  {
   "cell_type": "code",
   "execution_count": null,
   "metadata": {},
   "outputs": [],
   "source": [
    "results_df = pd.DataFrame(columns=['title',\n",
    "                                        'pubDate',\n",
    "                                        'link',\n",
    "                                        'source',\n",
    "                                        'timestamp_extract',\n",
    "                                  ])"
   ]
  },
  {
   "cell_type": "code",
   "execution_count": 15,
   "metadata": {},
   "outputs": [],
   "source": [
    "def search_rss(string, results_df):\n",
    "    \n",
    "    print('Extraindo notícias para a string {0}'.format(string))\n",
    "    url_final = url + string + aux\n",
    "    response = requests.get(url_final)\n",
    "    \n",
    "    if response.status_code == 200:\n",
    "        \n",
    "        tree = ElementTree.fromstring(response.content)\n",
    "        tree = tree.find('channel')\n",
    "        news = tree.getchildren()\n",
    "        news = news[8:] # As 8 primeiras posições são metadados\n",
    "        \n",
    "        print('Foram encontrados {0} resultados'.format(len(news)))\n",
    "        \n",
    "        results_df = extract_results(noticias, results_df)\n",
    "    \n",
    "    print('--')\n",
    "    \n",
    "    return results_df"
   ]
  },
  {
   "cell_type": "code",
   "execution_count": null,
   "metadata": {},
   "outputs": [],
   "source": [
    "for string in search_strings:\n",
    "    \n",
    "    results_df = search_rss(string, results_df)"
   ]
  },
  {
   "cell_type": "code",
   "execution_count": null,
   "metadata": {},
   "outputs": [],
   "source": [
    "results_df.head()"
   ]
  }
 ],
 "metadata": {
  "kernelspec": {
   "display_name": "Python 3",
   "language": "python",
   "name": "python3"
  },
  "language_info": {
   "codemirror_mode": {
    "name": "ipython",
    "version": 3
   },
   "file_extension": ".py",
   "mimetype": "text/x-python",
   "name": "python",
   "nbconvert_exporter": "python",
   "pygments_lexer": "ipython3",
   "version": "3.5.6"
  }
 },
 "nbformat": 4,
 "nbformat_minor": 2
}
