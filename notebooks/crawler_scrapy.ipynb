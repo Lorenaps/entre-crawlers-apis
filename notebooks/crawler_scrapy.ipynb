{
 "cells": [
  {
   "cell_type": "markdown",
   "metadata": {},
   "source": [
    "# Via Crawler\n",
    "\n",
    "- Conceitos\n",
    "- Ferramental\n",
    "- Exemplo"
   ]
  },
  {
   "cell_type": "markdown",
   "metadata": {},
   "source": [
    "Câmara:\n",
    "\n",
    "https://dadosabertos.camara.leg.br/swagger/api.html\n",
    "\n",
    "https://www2.camara.leg.br/transparencia/dados-abertos/dados-abertos-legislativo"
   ]
  },
  {
   "cell_type": "code",
   "execution_count": null,
   "metadata": {},
   "outputs": [],
   "source": [
    "import scrapy\n",
    "import json\n",
    "import csv\n",
    "\n",
    "class Deputados(scrapy.Spider):\n",
    "    name = 'toAPIDadosAbertos'\n",
    "    pages = 0\n",
    "    data = []\n",
    "\n",
    "    def start_requests(self):\n",
    "        urls = ['https://dadosabertos.camara.leg.br/api/v2/deputados']\n",
    "        for url in urls:\n",
    "            yield scrapy.Request(url=url, callback=self.parse, headers={'accept': 'application/json'})\n",
    "\n",
    "    def parse(self, response):\n",
    "        item_json = json.loads(response.body)   #get body of response. Comes as str\n",
    "        item_list = item_json.get(\"dados\")   #add a new set of datas returned (a new page) in list\n",
    "        self.data = self.data + item_list\n",
    "        self.pages += 1\n",
    "\n",
    "        if item_json.get('links')[1].get('rel') == 'next':\n",
    "            next_page = item_json.get('links')[1].get('href')\n",
    "        else:\n",
    "            next_page = None\n",
    "\n",
    "        if next_page is not None:\n",
    "            next_page = response.urljoin(next_page)\n",
    "            yield scrapy.Request(url=next_page, callback=self.parse, headers={'accept': 'application/json'})\n",
    "        else:\n",
    "            filename = '../data/deputados.json'\n",
    "            with open(filename, 'w') as f:\n",
    "                f.write(json.dumps(self.data))\n",
    "\n",
    "        self.log(\"End of crawler \\nTotal pages: \" +\n",
    "                 str(self.pages) +\n",
    "                 \"\\nTotal items: \" +\n",
    "                 str(len(self.data)) + \"\\n\")"
   ]
  }
 ],
 "metadata": {
  "kernelspec": {
   "display_name": "Python 3",
   "language": "python",
   "name": "python3"
  },
  "language_info": {
   "codemirror_mode": {
    "name": "ipython",
    "version": 3
   },
   "file_extension": ".py",
   "mimetype": "text/x-python",
   "name": "python",
   "nbconvert_exporter": "python",
   "pygments_lexer": "ipython3",
   "version": "3.5.6"
  }
 },
 "nbformat": 4,
 "nbformat_minor": 2
}
