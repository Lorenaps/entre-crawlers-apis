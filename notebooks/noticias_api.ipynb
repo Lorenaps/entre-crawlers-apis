{
 "cells": [
  {
   "cell_type": "markdown",
   "metadata": {},
   "source": [
    "# Via API\n",
    "\n",
    "- Conceitos\n",
    "- Ferramental\n",
    "- Exemplo"
   ]
  },
  {
   "cell_type": "markdown",
   "metadata": {},
   "source": [
    "## Via biblioteca"
   ]
  },
  {
   "cell_type": "code",
   "execution_count": null,
   "metadata": {},
   "outputs": [],
   "source": [
    "import newsapi as na\n",
    "import requests"
   ]
  },
  {
   "cell_type": "code",
   "execution_count": null,
   "metadata": {},
   "outputs": [],
   "source": [
    "def get_status(search):\n",
    "    print(\"Status: {0}\\nTotal results: {1}\".format(all_articles.get('status'), \n",
    "                                                   all_articles.get('totalResults')))"
   ]
  },
  {
   "cell_type": "code",
   "execution_count": null,
   "metadata": {},
   "outputs": [],
   "source": [
    "na.const.languages"
   ]
  },
  {
   "cell_type": "code",
   "execution_count": null,
   "metadata": {},
   "outputs": [],
   "source": [
    "newsapi = na.NewsApiClient(api_key='')"
   ]
  },
  {
   "cell_type": "code",
   "execution_count": null,
   "metadata": {},
   "outputs": [],
   "source": [
    "top_headlines = newsapi.get_top_headlines(q='Brasil')\n",
    "top_headlines"
   ]
  },
  {
   "cell_type": "code",
   "execution_count": null,
   "metadata": {},
   "outputs": [],
   "source": [
    "all_articles = newsapi.get_everything(q='salvador empoderamento',\n",
    "                                    language='pt')"
   ]
  },
  {
   "cell_type": "code",
   "execution_count": null,
   "metadata": {},
   "outputs": [],
   "source": [
    "get_status(all_articles)\n"
   ]
  },
  {
   "cell_type": "code",
   "execution_count": null,
   "metadata": {},
   "outputs": [],
   "source": [
    "for article in all_articles.get('articles'):\n",
    "    print('- ' + article.get('title'))"
   ]
  },
  {
   "cell_type": "markdown",
   "metadata": {},
   "source": [
    "### Via requests"
   ]
  },
  {
   "cell_type": "code",
   "execution_count": null,
   "metadata": {},
   "outputs": [],
   "source": [
    "r = requests.get('https://newsapi.org/v2/top-headlines?sources=google-news-br&apiKey=')"
   ]
  },
  {
   "cell_type": "code",
   "execution_count": null,
   "metadata": {},
   "outputs": [],
   "source": [
    "r.headers\n",
    "\n",
    "t = r.json()\n",
    "\n",
    "len(t)\n",
    "\n",
    "lista = t.get('articles')\n",
    "len(lista)\n",
    "\n",
    "t.get('totalResults')\n",
    "\n",
    "marcha empoderamento crespo\n",
    "\n",
    "url = 'https://newsapi.org/v2/everything?q=marcha&empoderamento&crespo&apiKey='\n",
    "\n",
    "mresults = requests.get(url)\n",
    "\n",
    "m = mresults.json()\n",
    "m\n",
    "\n",
    "url = ('https://newsapi.org/v2/top-headlines?'\n",
    "       'country=br&'\n",
    "       'apiKey=')\n",
    "response = requests.get(url)\n",
    "response"
   ]
  }
 ],
 "metadata": {
  "kernelspec": {
   "display_name": "Python 3",
   "language": "python",
   "name": "python3"
  },
  "language_info": {
   "codemirror_mode": {
    "name": "ipython",
    "version": 3
   },
   "file_extension": ".py",
   "mimetype": "text/x-python",
   "name": "python",
   "nbconvert_exporter": "python",
   "pygments_lexer": "ipython3",
   "version": "3.5.6"
  }
 },
 "nbformat": 4,
 "nbformat_minor": 2
}
