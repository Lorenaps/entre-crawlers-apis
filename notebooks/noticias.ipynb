{
 "cells": [
  {
   "cell_type": "markdown",
   "metadata": {},
   "source": [
    "## Extraindo notícias\n",
    "\n",
    "https://newsapi.org/docs/client-libraries/python"
   ]
  },
  {
   "cell_type": "code",
   "execution_count": 28,
   "metadata": {},
   "outputs": [],
   "source": [
    "import newsapi as na\n",
    "import requests"
   ]
  },
  {
   "cell_type": "code",
   "execution_count": 14,
   "metadata": {},
   "outputs": [],
   "source": [
    "def get_status(search):\n",
    "    print(\"Status: {0}\\nTotal results: {1}\".format(all_articles.get('status'), \n",
    "                                                   all_articles.get('totalResults')))"
   ]
  },
  {
   "cell_type": "code",
   "execution_count": 29,
   "metadata": {},
   "outputs": [],
   "source": [
    "newsapi = na.NewsApiClient(api_key='')"
   ]
  },
  {
   "cell_type": "code",
   "execution_count": 4,
   "metadata": {},
   "outputs": [
    {
     "data": {
      "text/plain": [
       "{'status': 'ok',\n",
       " 'totalResults': 4,\n",
       " 'articles': [{'source': {'id': 'the-next-web', 'name': 'The Next Web'},\n",
       "   'author': 'Yessi Bello Perez',\n",
       "   'title': 'Instagram influencer nabbed in Dubai for running alleged cryptocurrency investment scam',\n",
       "   'description': 'Aziz ‘Com’ Mirza, a Canadian man living in Dubai, has been arrested by authorities and accused of defrauding investors through a string of get-rich-quick schemes, including real estate-backed cryptocurrency Habibi Coin — once dubbed “the Bitcoin of the Middle…',\n",
       "   'url': 'https://thenextweb.com/hardfork/2019/10/31/instagram-influencer-nabbed-in-dubai-for-running-alleged-cryptocurrency-investment-scam/',\n",
       "   'urlToImage': 'https://img-cdn.tnwcdn.com/image/hardfork?filter_last=1&fit=1280%2C640&url=https%3A%2F%2Fcdn0.tnwcdn.com%2Fwp-content%2Fblogs.dir%2F1%2Ffiles%2F2019%2F10%2FUntitled-design-35.jpg&signature=3661f184d53865ac196dc1d8da01ed5c',\n",
       "   'publishedAt': '2019-10-31T15:34:13Z',\n",
       "   'content': 'Aziz Com Mirza, a Canadian man living in Dubai, has been arrested by authorities and accused of defrauding investors through a string of get-rich-quick schemes, including real estate-backed cryptocurrency Habibi Coin once dubbed the Bitcoin of the Middle East… [+1330 chars]'},\n",
       "  {'source': {'id': 'the-next-web', 'name': 'The Next Web'},\n",
       "   'author': 'Matthew Beedham',\n",
       "   'title': 'Italians apparently prefer Bitcoin over Visa or MasterCard for online payments',\n",
       "   'description': 'What comes to mind when you think of Italy? Pizza, pasta, Ferrari, long white-chalk roads winding their way over rolling Tuscan hills? What about\\xa0Bitcoin? Because it seems Italians are quite keen on using the\\xa0cryptocurrency\\xa0for online payments. According to a…',\n",
       "   'url': 'https://thenextweb.com/hardfork/2019/10/31/italians-prefer-bitcoin-visa-mastercard-online-payments/',\n",
       "   'urlToImage': 'https://img-cdn.tnwcdn.com/image/hardfork?filter_last=1&fit=1280%2C640&url=https%3A%2F%2Fcdn0.tnwcdn.com%2Fwp-content%2Fblogs.dir%2F1%2Ffiles%2F2019%2F10%2Fitalian-blokchain-bitcoin-cryptocurrency-sales-online-purchases-payment.jpg&signature=bb43ac70138128da14d7d369f8083300',\n",
       "   'publishedAt': '2019-10-31T15:03:14Z',\n",
       "   'content': 'What comes to mind when you think of Italy? Pizza, pasta, Ferrari, long white-chalk roads winding their way over rolling Tuscan hills? What about\\xa0Bitcoin? Because it seems Italians are quite keen on using the\\xa0cryptocurrency\\xa0for online payments.\\r\\nAccording to … [+1450 chars]'},\n",
       "  {'source': {'id': 'crypto-coins-news', 'name': 'Crypto Coins News'},\n",
       "   'author': None,\n",
       "   'title': 'Russian Official to Challenge China’s Bitcoin Mining Supremacy',\n",
       "   'description': 'Russia is converting an aluminum plant into a crypto mining facility. The facility plans to take on China’s supremacy in bitcoin mining.',\n",
       "   'url': 'https://www.ccn.com/russian-official-challenge-china-dominance-bitcoin-mining/',\n",
       "   'urlToImage': 'https://www.ccn.com/wp-content/uploads/2019/10/zxGdjO585iE.jpg',\n",
       "   'publishedAt': '2019-10-31T13:10:30Z',\n",
       "   'content': '<ul><li>A Russian company has decided to turn an aluminum plant into a crypto mining facility.</li><li>The facility plans to take on Chinas supremacy in bitcoin mining.</li><li>If bitcoin manages to trade around $9,160, the Russian company estimates profits o… [+3874 chars]'},\n",
       "  {'source': {'id': 'the-next-web', 'name': 'The Next Web'},\n",
       "   'author': 'Yessi Bello Perez',\n",
       "   'title': 'It’s been 11 years since Satoshi Nakamoto unleashed Bitcoin into the wild',\n",
       "   'description': 'Eleven years ago today, Satoshi Nakamoto — the person, or persons, responsible for creating Bitcoin — unleashed the cryptocurrency’s white paper into the wild. Published on October 31, 2008, the white paper, officially titled, ‘Bitcoin: A Peer-to-Peer Electro…',\n",
       "   'url': 'https://thenextweb.com/hardfork/2019/10/31/its-been-11-years-since-satoshi-nakamoto-unleashed-bitcoin-into-the-wild/',\n",
       "   'urlToImage': 'https://img-cdn.tnwcdn.com/image/hardfork?filter_last=1&fit=1280%2C640&url=https%3A%2F%2Fcdn0.tnwcdn.com%2Fwp-content%2Fblogs.dir%2F1%2Ffiles%2F2019%2F10%2Fbitcoin-birthday.jpg&signature=e6ed5b6406b9b8c5f04a21a1671e3fb1',\n",
       "   'publishedAt': '2019-10-31T12:23:05Z',\n",
       "   'content': 'Eleven years ago today, Satoshi Nakamoto the person, or persons, responsible for creating Bitcoin unleashed the cryptocurrencys white paper into the wild.\\r\\nPublished on October 31, 2008, the white paper, officially titled, Bitcoin: A Peer-to-Peer Electronic C… [+2936 chars]'}]}"
      ]
     },
     "execution_count": 4,
     "metadata": {},
     "output_type": "execute_result"
    }
   ],
   "source": [
    "top_headlines = newsapi.get_top_headlines(q='bitcoin')\n",
    "top_headlines"
   ]
  },
  {
   "cell_type": "code",
   "execution_count": 31,
   "metadata": {},
   "outputs": [
    {
     "data": {
      "text/plain": [
       "{'ar',\n",
       " 'cn',\n",
       " 'de',\n",
       " 'en',\n",
       " 'es',\n",
       " 'fr',\n",
       " 'he',\n",
       " 'it',\n",
       " 'nl',\n",
       " 'no',\n",
       " 'pt',\n",
       " 'ru',\n",
       " 'sv',\n",
       " 'ud'}"
      ]
     },
     "execution_count": 31,
     "metadata": {},
     "output_type": "execute_result"
    }
   ],
   "source": [
    "na.const.languages"
   ]
  },
  {
   "cell_type": "code",
   "execution_count": 48,
   "metadata": {},
   "outputs": [],
   "source": [
    "all_articles = newsapi.get_everything(q='salvador empoderamento',\n",
    "                                    language='pt')"
   ]
  },
  {
   "cell_type": "code",
   "execution_count": 50,
   "metadata": {},
   "outputs": [
    {
     "name": "stdout",
     "output_type": "stream",
     "text": [
      "Status: ok\n",
      "Total results: 7\n"
     ]
    }
   ],
   "source": [
    "get_status(all_articles)"
   ]
  },
  {
   "cell_type": "code",
   "execution_count": 51,
   "metadata": {},
   "outputs": [
    {
     "name": "stdout",
     "output_type": "stream",
     "text": [
      "- Djamila Ribeiro e Tábata Amaral estão entre as 100 mulheres mais influentes e inspiradoras do mundo segundo a BBC\n",
      "- Feira Criativa acontece neste fim de semana em Salvador\n",
      "- 'Exterminador' é franquia inesgotável com alguns tropeços, mas que nunca deixou de atrair\n",
      "- 'Lendária!' | Jornalista da TV Globo rebate homofobia e viraliza nas redes\n",
      "- Djamila Ribeiro e Tábata Amaral estão entre as 100 mulheres mais influentes e inspiradoras do mundo segundo a BBC\n",
      "- Djamila Ribeiro e Tábata Amaral estão em lista da BBC de 100 mulheres influentes no mundo\n",
      "- Anavitória traz ternura e leveza para show em São Paulo\n"
     ]
    }
   ],
   "source": [
    "for article in all_articles.get('articles'):\n",
    "    print('- ' + article.get('title'))"
   ]
  },
  {
   "cell_type": "code",
   "execution_count": null,
   "metadata": {},
   "outputs": [],
   "source": []
  },
  {
   "cell_type": "code",
   "execution_count": null,
   "metadata": {},
   "outputs": [],
   "source": []
  },
  {
   "cell_type": "markdown",
   "metadata": {},
   "source": [
    "### RSS da API do Google News (Foi descontinuada: não tem mais manutenção)"
   ]
  },
  {
   "cell_type": "code",
   "execution_count": null,
   "metadata": {},
   "outputs": [],
   "source": [
    "https://news.google.com/rss/search?q=marcha%20empoderamento%20salvador&hl=pt-BR&gl=BR&ceid=BR:pt-419"
   ]
  },
  {
   "cell_type": "code",
   "execution_count": 9,
   "metadata": {},
   "outputs": [],
   "source": [
    "r = requests.get('https://newsapi.org/v2/top-headlines?sources=google-news-br&apiKey=')"
   ]
  },
  {
   "cell_type": "code",
   "execution_count": 11,
   "metadata": {},
   "outputs": [
    {
     "data": {
      "text/plain": [
       "{'Content-Length': '10100', 'Cache-Control': 'no-cache', 'Expires': '-1', 'Pragma': 'no-cache', 'Content-Type': 'application/json; charset=utf-8', 'Access-Control-Allow-Methods': 'GET', 'X-Cached-Result': 'false', 'Date': 'Tue, 22 Oct 2019 19:15:15 GMT', 'Access-Control-Allow-Headers': 'x-api-key, authorization', 'Access-Control-Allow-Origin': '*'}"
      ]
     },
     "execution_count": 11,
     "metadata": {},
     "output_type": "execute_result"
    }
   ],
   "source": [
    "r.headers"
   ]
  },
  {
   "cell_type": "code",
   "execution_count": 13,
   "metadata": {},
   "outputs": [],
   "source": [
    "t = r.json()"
   ]
  },
  {
   "cell_type": "code",
   "execution_count": 16,
   "metadata": {},
   "outputs": [
    {
     "data": {
      "text/plain": [
       "3"
      ]
     },
     "execution_count": 16,
     "metadata": {},
     "output_type": "execute_result"
    }
   ],
   "source": [
    "len(t)"
   ]
  },
  {
   "cell_type": "code",
   "execution_count": 19,
   "metadata": {},
   "outputs": [
    {
     "data": {
      "text/plain": [
       "10"
      ]
     },
     "execution_count": 19,
     "metadata": {},
     "output_type": "execute_result"
    }
   ],
   "source": [
    "lista = t.get('articles')\n",
    "len(lista)"
   ]
  },
  {
   "cell_type": "code",
   "execution_count": 20,
   "metadata": {},
   "outputs": [
    {
     "data": {
      "text/plain": [
       "10"
      ]
     },
     "execution_count": 20,
     "metadata": {},
     "output_type": "execute_result"
    }
   ],
   "source": [
    "t.get('totalResults')"
   ]
  },
  {
   "cell_type": "code",
   "execution_count": null,
   "metadata": {},
   "outputs": [],
   "source": [
    "marcha empoderamento crespo"
   ]
  },
  {
   "cell_type": "code",
   "execution_count": 26,
   "metadata": {},
   "outputs": [],
   "source": [
    "url = 'https://newsapi.org/v2/everything?q=marcha&empoderamento&crespo&apiKey='"
   ]
  },
  {
   "cell_type": "code",
   "execution_count": 27,
   "metadata": {},
   "outputs": [],
   "source": [
    "mresults = requests.get(url)"
   ]
  },
  {
   "cell_type": "code",
   "execution_count": 30,
   "metadata": {},
   "outputs": [
    {
     "data": {
      "text/plain": [
       "{'articles': [], 'status': 'ok', 'totalResults': 0}"
      ]
     },
     "execution_count": 30,
     "metadata": {},
     "output_type": "execute_result"
    }
   ],
   "source": [
    "m = mresults.json()\n",
    "m"
   ]
  },
  {
   "cell_type": "code",
   "execution_count": 34,
   "metadata": {},
   "outputs": [
    {
     "data": {
      "text/plain": [
       "<Response [200]>"
      ]
     },
     "execution_count": 34,
     "metadata": {},
     "output_type": "execute_result"
    }
   ],
   "source": [
    "url = ('https://newsapi.org/v2/top-headlines?'\n",
    "       'country=br&'\n",
    "       'apiKey=')\n",
    "response = requests.get(url)\n",
    "response"
   ]
  },
  {
   "cell_type": "code",
   "execution_count": null,
   "metadata": {},
   "outputs": [],
   "source": [
    "url = ('https://newsapi.org/v2/top-headlines?'\n",
    "       'country=us&'\n",
    "       'apiKey=')\n",
    "response = requests.get(url)\n",
    "response"
   ]
  },
  {
   "cell_type": "code",
   "execution_count": 52,
   "metadata": {},
   "outputs": [
    {
     "ename": "NameError",
     "evalue": "name 'url' is not defined",
     "output_type": "error",
     "traceback": [
      "\u001b[0;31m---------------------------------------------------------------------------\u001b[0m",
      "\u001b[0;31mNameError\u001b[0m                                 Traceback (most recent call last)",
      "\u001b[0;32m<ipython-input-52-5446fb31b66c>\u001b[0m in \u001b[0;36m<module>\u001b[0;34m\u001b[0m\n\u001b[0;32m----> 1\u001b[0;31m \u001b[0murl\u001b[0m\u001b[0;34m\u001b[0m\u001b[0;34m\u001b[0m\u001b[0m\n\u001b[0m",
      "\u001b[0;31mNameError\u001b[0m: name 'url' is not defined"
     ]
    }
   ],
   "source": [
    "url"
   ]
  },
  {
   "cell_type": "code",
   "execution_count": 38,
   "metadata": {},
   "outputs": [
    {
     "data": {
      "text/plain": [
       "<Response [200]>"
      ]
     },
     "execution_count": 38,
     "metadata": {},
     "output_type": "execute_result"
    }
   ],
   "source": [
    "url = ('https://newsapi.org/v2/everything?'\n",
    "       'q=Marcha empoderamento&'\n",
    "       'apiKey=')\n",
    "response = requests.get(url)\n",
    "response"
   ]
  },
  {
   "cell_type": "code",
   "execution_count": null,
   "metadata": {},
   "outputs": [],
   "source": []
  }
 ],
 "metadata": {
  "kernelspec": {
   "display_name": "Python 3",
   "language": "python",
   "name": "python3"
  },
  "language_info": {
   "codemirror_mode": {
    "name": "ipython",
    "version": 3
   },
   "file_extension": ".py",
   "mimetype": "text/x-python",
   "name": "python",
   "nbconvert_exporter": "python",
   "pygments_lexer": "ipython3",
   "version": "3.6.8"
  }
 },
 "nbformat": 4,
 "nbformat_minor": 2
}
