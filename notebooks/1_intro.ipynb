{
 "cells": [
  {
   "cell_type": "markdown",
   "metadata": {},
   "source": [
    "# 1 - Introdução"
   ]
  },
  {
   "cell_type": "markdown",
   "metadata": {},
   "source": [
    "<img src=\"imagens/capa.png\">\n",
    "<img src=\"imagens/sobre.png\">\n",
    "<img src=\"imagens/turmalina.png\">\n",
    "<img src=\"imagens/cajazeiras.png\">\n",
    "<img src=\"imagens/campina.png\">\n",
    "<img src=\"imagens/joaopessoa.png\">\n",
    "\n",
    "todo: mudar background \n",
    "<img src=\"imagens/citacao.png\">\n",
    "<img src=\"imagens/conceitos.png\">"
   ]
  },
  {
   "cell_type": "markdown",
   "metadata": {},
   "source": [
    "# E assim chegamos a parte prática\n",
    "\n",
    "## Próximos notebooks:\n",
    "\n",
    "### [2 - API, XML e Notícias]()\n",
    "### [3 - API, Crawler, JSON e HTML]()"
   ]
  }
 ],
 "metadata": {
  "kernelspec": {
   "display_name": "Python 3",
   "language": "python",
   "name": "python3"
  },
  "language_info": {
   "codemirror_mode": {
    "name": "ipython",
    "version": 3
   },
   "file_extension": ".py",
   "mimetype": "text/x-python",
   "name": "python",
   "nbconvert_exporter": "python",
   "pygments_lexer": "ipython3",
   "version": "3.5.6"
  }
 },
 "nbformat": 4,
 "nbformat_minor": 2
}
