{
 "cells": [
  {
   "cell_type": "markdown",
   "metadata": {},
   "source": [
    "# 1 - Introdução"
   ]
  },
  {
   "cell_type": "code",
   "execution_count": null,
   "metadata": {},
   "outputs": [],
   "source": []
  },
  {
   "cell_type": "markdown",
   "metadata": {},
   "source": [
    "## Próximos:\n",
    "\n",
    "### [2 - API, XML e Notícias]()\n",
    "### [3 - API, Crawler, JSON e HTML]()"
   ]
  },
  {
   "cell_type": "markdown",
   "metadata": {},
   "source": [
    "Links para explorar:\n",
    "    \n",
    "- [Dados Abertos - Câmara dos Deputados](https://dadosabertos.camara.leg.br/swagger/api.html)\n",
    "- [Introdução ao XPath para raspagem de dados em HTML](https://escoladedados.org/tutoriais/xpath-para-raspagem-de-dados-em-html/)"
   ]
  }
 ],
 "metadata": {
  "kernelspec": {
   "display_name": "Python 3",
   "language": "python",
   "name": "python3"
  },
  "language_info": {
   "codemirror_mode": {
    "name": "ipython",
    "version": 3
   },
   "file_extension": ".py",
   "mimetype": "text/x-python",
   "name": "python",
   "nbconvert_exporter": "python",
   "pygments_lexer": "ipython3",
   "version": "3.5.6"
  }
 },
 "nbformat": 4,
 "nbformat_minor": 2
}
