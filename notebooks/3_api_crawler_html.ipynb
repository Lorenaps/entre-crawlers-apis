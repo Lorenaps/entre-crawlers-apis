{
 "cells": [
  {
   "cell_type": "markdown",
   "metadata": {},
   "source": [
    "# 3 - API, Crawler, JSON e HTML"
   ]
  },
  {
   "cell_type": "markdown",
   "metadata": {},
   "source": [
    "### Quais dados podemos obter sobre vereadoras e vereadores da cidade de São Paulo?\n",
    "\n",
    "Links:\n",
    "- [CMSP - Dados disponibilizados em formato aberto](http://www.saopaulo.sp.leg.br/transparencia/dados-abertos/dados-disponibilizados-em-formato-aberto/)\n",
    "- [SPLEGIS - Sistema do Processo Legislativo](http://splegisws.camara.sp.gov.br/ws/ws2.asmx)\n",
    "- [SPLEGIS - Lista de vereadores](http://splegisws.camara.sp.gov.br/ws/ws2.asmx?op=VereadoresCMSPJSON) "
   ]
  },
  {
   "cell_type": "markdown",
   "metadata": {},
   "source": [
    "\n",
    "#### Vamos lá!"
   ]
  },
  {
   "cell_type": "code",
   "execution_count": null,
   "metadata": {},
   "outputs": [],
   "source": [
    "import requests\n",
    "import pandas as pd"
   ]
  },
  {
   "cell_type": "code",
   "execution_count": null,
   "metadata": {},
   "outputs": [],
   "source": [
    "url_api = 'http://splegisws.camara.sp.gov.br/ws/ws2.asmx/VereadoresCMSPJSON'"
   ]
  },
  {
   "cell_type": "code",
   "execution_count": null,
   "metadata": {},
   "outputs": [],
   "source": [
    "resultados = requests.get(url_api)\n",
    "resultados.status_code"
   ]
  },
  {
   "cell_type": "code",
   "execution_count": null,
   "metadata": {},
   "outputs": [],
   "source": [
    "resultados.content"
   ]
  },
  {
   "cell_type": "code",
   "execution_count": null,
   "metadata": {},
   "outputs": [],
   "source": [
    "type(resultados.content)"
   ]
  },
  {
   "cell_type": "code",
   "execution_count": null,
   "metadata": {},
   "outputs": [],
   "source": [
    "resultados_json = resultados.json()\n",
    "resultados_json"
   ]
  },
  {
   "cell_type": "code",
   "execution_count": null,
   "metadata": {},
   "outputs": [],
   "source": [
    "type(resultados_json)"
   ]
  },
  {
   "cell_type": "code",
   "execution_count": null,
   "metadata": {},
   "outputs": [],
   "source": [
    "len(resultados_json)"
   ]
  },
  {
   "cell_type": "code",
   "execution_count": null,
   "metadata": {},
   "outputs": [],
   "source": [
    "resultados_json[0]"
   ]
  },
  {
   "cell_type": "code",
   "execution_count": null,
   "metadata": {},
   "outputs": [],
   "source": [
    "type(resultados_json[0])"
   ]
  },
  {
   "cell_type": "code",
   "execution_count": null,
   "metadata": {},
   "outputs": [],
   "source": [
    "lista_novos_dados = []\n",
    "\n",
    "for item in resultados_json:\n",
    "    novos_dados = {\n",
    "        'nome': item.get('nome'),\n",
    "        'qtd_mandatos': len(item.get('mandatos')),\n",
    "        'qtd_cargos': len(item.get('cargos'))\n",
    "    } \n",
    "    \n",
    "    lista_novos_dados.append(novos_dados)"
   ]
  },
  {
   "cell_type": "code",
   "execution_count": null,
   "metadata": {},
   "outputs": [],
   "source": [
    "resultados_df = pd.DataFrame(lista_novos_dados)\n",
    "resultados_df.head(5)"
   ]
  },
  {
   "cell_type": "code",
   "execution_count": null,
   "metadata": {
    "scrolled": false
   },
   "outputs": [],
   "source": [
    "resultados_df.sort_values(['qtd_mandatos', 'qtd_cargos'], ascending=False).head(10)"
   ]
  },
  {
   "cell_type": "markdown",
   "metadata": {},
   "source": [
    "### Podemos salvar o que extraímos em csv?\n",
    "\n",
    "<img src=\"https://media.giphy.com/media/hVYVYZZBgF50k/giphy.gif\" align=\"left\">"
   ]
  },
  {
   "cell_type": "code",
   "execution_count": null,
   "metadata": {},
   "outputs": [],
   "source": [
    "resultados_df.to_csv('lista_vereadores.csv', index=False)"
   ]
  },
  {
   "cell_type": "markdown",
   "metadata": {},
   "source": [
    "#### E o que fazemos nesse caso?"
   ]
  },
  {
   "cell_type": "code",
   "execution_count": null,
   "metadata": {},
   "outputs": [],
   "source": [
    "teste = requests.get('http://quotes.toscrape.com/tag/humor/')\n",
    "teste.status_code"
   ]
  },
  {
   "cell_type": "code",
   "execution_count": null,
   "metadata": {},
   "outputs": [],
   "source": [
    "teste.content"
   ]
  },
  {
   "cell_type": "code",
   "execution_count": null,
   "metadata": {
    "scrolled": true
   },
   "outputs": [],
   "source": [
    "teste.json()"
   ]
  },
  {
   "cell_type": "markdown",
   "metadata": {},
   "source": [
    "## Brincando com o Scrapy\n",
    "\n",
    "[Quotes to Scrape](http://quotes.toscrape.com/tag/humor/)\n",
    "\n",
    "<img src=\"imagens/vereadoressp.png\">"
   ]
  },
  {
   "cell_type": "code",
   "execution_count": null,
   "metadata": {},
   "outputs": [],
   "source": [
    "%%writefile quotes.py\n",
    "import scrapy\n",
    "\n",
    "\n",
    "class QuotesSpider(scrapy.Spider):\n",
    "    name = 'quotes'\n",
    "    \n",
    "    def start_requests(self):\n",
    "        urls = [\n",
    "            'http://quotes.toscrape.com/tag/humor/page/1/',\n",
    "            'http://quotes.toscrape.com/tag/humor/page/2/',\n",
    "        ]\n",
    "        \n",
    "        for url in urls:\n",
    "            yield scrapy.Request(url=url, callback=self.parse)\n",
    "\n",
    "    def parse(self, response):\n",
    "        for quote in response.css('div.quote'):\n",
    "            yield {\n",
    "                'text': quote.css('span.text::text').get(),\n",
    "                'author': quote.xpath('span/small/text()').get(),\n",
    "            }"
   ]
  },
  {
   "cell_type": "code",
   "execution_count": null,
   "metadata": {},
   "outputs": [],
   "source": [
    "!ls"
   ]
  },
  {
   "cell_type": "code",
   "execution_count": null,
   "metadata": {
    "scrolled": true
   },
   "outputs": [],
   "source": [
    "!scrapy runspider quotes.py -o quotes.json"
   ]
  },
  {
   "cell_type": "code",
   "execution_count": null,
   "metadata": {},
   "outputs": [],
   "source": [
    "%%writefile items.py\n",
    "import scrapy\n",
    "\n",
    "class Vereador(scrapy.Item):\n",
    "    \n",
    "    nome = scrapy.Field()\n",
    "    email = scrapy.Field()\n",
    "    rede_social = scrapy.Field()"
   ]
  },
  {
   "cell_type": "code",
   "execution_count": null,
   "metadata": {},
   "outputs": [],
   "source": [
    "%%writefile vereadores_sp.py\n",
    "import scrapy\n",
    "from scrapy.loader import ItemLoader\n",
    "from items import Vereador\n",
    "\n",
    "class VereadoresSpider(scrapy.Spider):\n",
    "    name = 'veradores_sp'\n",
    "    start_urls = ['http://www.saopaulo.sp.leg.br/vereadores/']\n",
    "\n",
    "    def parse(self, response):      \n",
    "        lista_veradores = response.css('p.vereador-name a::attr(href)').getall()\n",
    "        \n",
    "        for item in lista_veradores:\n",
    "            yield response.follow(item, self.parse_vereador)\n",
    "    \n",
    "    \n",
    "    def parse_vereador(self, response):\n",
    "        \n",
    "        item_loader = ItemLoader(Vereador(), response)\n",
    "        \n",
    "        item_loader.add_css('nome', 'p.vereador-name a::text')\n",
    "        item_loader.add_css('email', 'div.vereador-data ul li a::text')\n",
    "        item_loader.add_xpath('rede_social', '/html/body/div[2]/div/div[3]/div/div/article/header/div[2]/ul/li[5]/a/@href')\n",
    "\n",
    "    \n",
    "        return item_loader.load_item()\n",
    "    \n",
    "    "
   ]
  },
  {
   "cell_type": "code",
   "execution_count": null,
   "metadata": {},
   "outputs": [],
   "source": [
    "!ls"
   ]
  },
  {
   "cell_type": "code",
   "execution_count": null,
   "metadata": {},
   "outputs": [],
   "source": [
    "!scrapy runspider vereadores_sp.py -o vereadores.json"
   ]
  },
  {
   "cell_type": "code",
   "execution_count": null,
   "metadata": {},
   "outputs": [],
   "source": [
    "!ls"
   ]
  },
  {
   "cell_type": "markdown",
   "metadata": {},
   "source": [
    "#### Ah massa! Fizemos tudo. Temos um forma automatizada de extrair, analisar e salvar esse dado... O que acontece agora?\n",
    "\n",
    "# A estrutura HTML vai mudar!"
   ]
  },
  {
   "cell_type": "markdown",
   "metadata": {},
   "source": [
    "<img src=\"https://media.tenor.com/images/75457a53b6ad99b2c857353eb4e21f76/tenor.gif\" align=\"left\">"
   ]
  }
 ],
 "metadata": {
  "kernelspec": {
   "display_name": "Python 3",
   "language": "python",
   "name": "python3"
  },
  "language_info": {
   "codemirror_mode": {
    "name": "ipython",
    "version": 3
   },
   "file_extension": ".py",
   "mimetype": "text/x-python",
   "name": "python",
   "nbconvert_exporter": "python",
   "pygments_lexer": "ipython3",
   "version": "3.5.6"
  }
 },
 "nbformat": 4,
 "nbformat_minor": 2
}
